{
  "nbformat": 4,
  "nbformat_minor": 0,
  "metadata": {
    "colab": {
      "name": "Desafio02_Rosalind_RNA.ipynb",
      "provenance": [],
      "collapsed_sections": [],
      "authorship_tag": "ABX9TyOln2wb92s4VKupdd03JeLI"
    },
    "kernelspec": {
      "name": "python3",
      "display_name": "Python 3"
    },
    "language_info": {
      "name": "python"
    }
  },
  "cells": [
    {
      "cell_type": "markdown",
      "source": [
        "<b>Transcribing DNA into RNA</b>\n",
        "--\n",
        "\n",
        "<b>Problem</b>\n",
        "\n",
        "An RNA string is a string formed from the alphabet containing 'A', 'C', 'G', and 'U'.\n",
        "Given a DNA string <b><i>t</i></b>\n",
        "corresponding to a coding strand, its transcribed RNA string <b><i>u</b></i> is formed by replacing all occurrences of 'T' in t with 'U' in <b><i>u</b></i>.\n",
        "\n",
        "<font color=\"#008000\"><b><i>Given:</b></i></font> A DNA string <b><i>t</b></i> having length at most 1000 nt.\n",
        "\n",
        "<font color=\"#008000\"><b><i>Return:</b></i></font> The transcribed RNA string of <b><i>t</b></i>.\n",
        "\n",
        "<b><i>Sample Dataset</b></i>\n",
        "\n",
        "GATGGAACTTGACTACGTAAATT\n",
        "\n",
        "<b><i>Sample Output</b></i>\n",
        "\n",
        "GAUGGAACUUGACUACGUAAAUU\n",
        "\n"
      ],
      "metadata": {
        "id": "sIHK6Cr0pkNA"
      }
    },
    {
      "cell_type": "code",
      "execution_count": null,
      "metadata": {
        "colab": {
          "base_uri": "https://localhost:8080/"
        },
        "id": "PMZLui8Mpjku",
        "outputId": "7f031267-9265-47d3-a63a-0c3afeac5943"
      },
      "outputs": [
        {
          "output_type": "stream",
          "name": "stdout",
          "text": [
            "GAUGGAACUUGACUACGUAAAUU\n"
          ]
        }
      ],
      "source": [
        "#Example\n",
        "dna_sequence = \"GATGGAACTTGACTACGTAAATT\"\n",
        "\n",
        "transc_rna_sequence = dna_sequence.replace(\"T\",\"U\")\n",
        "\n",
        "print(transc_rna_sequence)"
      ]
    },
    {
      "cell_type": "code",
      "source": [
        "dna_sequence = \"CACAACGTCCCGGGGGAATAGCCGTACTCAACACCCACCTCCGCAAAGAGCTAGAAAGTGACAGTCATATGAATGAGTTCCCTGCCCGGACCCACCACCCATTATGCATCAAGTGCACACTGTGCTTAGATGGCTTACAGCCCATACTCAAGGGTTTACCGTATTAAACGAAATACTCCTTGTGCGTGTCGGGGTATGCTTTCAGCAGTTTATCCGCTGAAAGGGTATCTAGTCCGTCCTCCTGACGGCTGTATTCTGCGGACTCTTTGAGGGGTGAAGCCTGTTAATTTGTAATGATGCCTATCACGCCATGGGCCCTCACGTGCTCTTGAAGAATCCTACACTGAAACTATTTGAGAGTGAAGACGTGTAGAATTAGTTGCTGATGCTTAGTGTTCTCACAACGCTGGTTCAAAAGACGCGGTGAAACGATTCCAAAGGACACTGGATATGGTCTCTAGGTCACCATGTATTATGGCAACTCCACGTAGCAGGATGATGTCCTGTTACGCTCTGGCGAAGAATAATATGTCAGAGACAACAGGATCACGTAGCGTCCGATATATAACCTGGCTCCTCGAATGACTTGTCGTCCGCGGTCCCCACAGGTAAGTCCCTGACGTAGGCGAAGTAAGTGTATAGGGCTTCAACCGCTCAGTCATTCGGTGAAATGGTCCGTCAGATAAACGAAAACGATACCACCGATGGCGCTAGTACTTGTCGGGAATTAACGGCACTGGCTAGAAGGACTGTTCGTGTTAGCGGTTTCAGTCCTGGACTGAAAGATCCGGTGACGGCTTTGGGCCCATCGCAAGATCACTTTCCTTTGCGAGCCGTACCCCTCTAGTCCATGTATGCTGGTGTATCAAATGGCGGATGCTGAGTGAAAAAGTTAGATGAGATGGGAGCGCCGAGATAACGC\"\n",
        "\n",
        "transc_rna_sequence = dna_sequence.replace(\"T\",\"U\")\n",
        "\n",
        "print(transc_rna_sequence)"
      ],
      "metadata": {
        "colab": {
          "base_uri": "https://localhost:8080/"
        },
        "id": "LaUnpxRDxrNz",
        "outputId": "3cf0781b-a47b-42e1-8443-831375ff57b3"
      },
      "execution_count": null,
      "outputs": [
        {
          "output_type": "stream",
          "name": "stdout",
          "text": [
            "CACAACGUCCCGGGGGAAUAGCCGUACUCAACACCCACCUCCGCAAAGAGCUAGAAAGUGACAGUCAUAUGAAUGAGUUCCCUGCCCGGACCCACCACCCAUUAUGCAUCAAGUGCACACUGUGCUUAGAUGGCUUACAGCCCAUACUCAAGGGUUUACCGUAUUAAACGAAAUACUCCUUGUGCGUGUCGGGGUAUGCUUUCAGCAGUUUAUCCGCUGAAAGGGUAUCUAGUCCGUCCUCCUGACGGCUGUAUUCUGCGGACUCUUUGAGGGGUGAAGCCUGUUAAUUUGUAAUGAUGCCUAUCACGCCAUGGGCCCUCACGUGCUCUUGAAGAAUCCUACACUGAAACUAUUUGAGAGUGAAGACGUGUAGAAUUAGUUGCUGAUGCUUAGUGUUCUCACAACGCUGGUUCAAAAGACGCGGUGAAACGAUUCCAAAGGACACUGGAUAUGGUCUCUAGGUCACCAUGUAUUAUGGCAACUCCACGUAGCAGGAUGAUGUCCUGUUACGCUCUGGCGAAGAAUAAUAUGUCAGAGACAACAGGAUCACGUAGCGUCCGAUAUAUAACCUGGCUCCUCGAAUGACUUGUCGUCCGCGGUCCCCACAGGUAAGUCCCUGACGUAGGCGAAGUAAGUGUAUAGGGCUUCAACCGCUCAGUCAUUCGGUGAAAUGGUCCGUCAGAUAAACGAAAACGAUACCACCGAUGGCGCUAGUACUUGUCGGGAAUUAACGGCACUGGCUAGAAGGACUGUUCGUGUUAGCGGUUUCAGUCCUGGACUGAAAGAUCCGGUGACGGCUUUGGGCCCAUCGCAAGAUCACUUUCCUUUGCGAGCCGUACCCCUCUAGUCCAUGUAUGCUGGUGUAUCAAAUGGCGGAUGCUGAGUGAAAAAGUUAGAUGAGAUGGGAGCGCCGAGAUAACGC\n"
          ]
        }
      ]
    }
  ]
}