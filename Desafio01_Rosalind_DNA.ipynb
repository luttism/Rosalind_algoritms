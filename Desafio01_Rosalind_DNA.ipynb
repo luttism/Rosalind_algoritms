{
  "nbformat": 4,
  "nbformat_minor": 0,
  "metadata": {
    "colab": {
      "name": "Desafio01_Rosalind_DNA.ipynb",
      "provenance": [],
      "collapsed_sections": [],
      "authorship_tag": "ABX9TyPAlWUigxtc+dNH9Avd9Qyo",
      "include_colab_link": true
    },
    "kernelspec": {
      "name": "python3",
      "display_name": "Python 3"
    },
    "language_info": {
      "name": "python"
    }
  },
  "cells": [
    {
      "cell_type": "markdown",
      "metadata": {
        "id": "view-in-github",
        "colab_type": "text"
      },
      "source": [
        "<a href=\"https://colab.research.google.com/github/luttism/Rosalind_algoritms/blob/main/Desafio01_Rosalind_DNA.ipynb\" target=\"_parent\"><img src=\"https://colab.research.google.com/assets/colab-badge.svg\" alt=\"Open In Colab\"/></a>"
      ]
    },
    {
      "cell_type": "markdown",
      "source": [
        "<b>Counting DNA Nucleotides</b>\n",
        "--\n",
        "<b>Problem</b>\n",
        "\n",
        "A string is simply an ordered collection of symbols selected from some alphabet and formed into a word; the length of a string is the number of symbols that it contains.\n",
        "\n",
        "</br>An example of a length 21 DNA string (whose alphabet contains the symbols 'A', 'C', 'G', and 'T') is \"ATGCTTCAGAAAGGTCTTACG.\"\n",
        "\n",
        "<font color=\"#008000\"><b>Given:</b></font> A DNA string <b><i>s</i></b> of length at most 1000 nt.\n",
        "\n",
        "<font color=\"#008000\"><b>Return:</b></font> Four integers (separated by spaces) counting the respective number of times that the symbols 'A', 'C', 'G', and 'T' occur in <b><i>s</i></b>.\n",
        "\n",
        "<b>Sample Dataset</b>\n",
        "\n",
        "AGCTTTTCATTCTGACTGCAACGGGCAATATGTCTCTGTGTGGATTAAAAAAAGAGTGTCTGATAGCAGC\n",
        "\n",
        "<b>Sample Output</b>\n",
        "\n",
        "20 12 17 21\n"
      ],
      "metadata": {
        "id": "k5xfJ1uYkFJ8"
      }
    },
    {
      "cell_type": "code",
      "execution_count": null,
      "metadata": {
        "colab": {
          "base_uri": "https://localhost:8080/"
        },
        "id": "HQVt2UAcj_f5",
        "outputId": "0a85f0f9-a6b0-422f-da14-f177df140835"
      },
      "outputs": [
        {
          "output_type": "stream",
          "name": "stdout",
          "text": [
            "20 12 17 21\n"
          ]
        }
      ],
      "source": [
        "#Example\n",
        "dna_sequence = \"AGCTTTTCATTCTGACTGCAACGGGCAATATGTCTCTGTGTGGATTAAAAAAAGAGTGTCTGATAGCAGC\"\n",
        "\n",
        "dna_A = dna_sequence.count(\"A\")\n",
        "dna_C = dna_sequence.count(\"C\")\n",
        "dna_G = dna_sequence.count(\"G\")\n",
        "dna_T = dna_sequence.count(\"T\")\n",
        "\n",
        "print(dna_A,dna_C,dna_G,dna_T,sep=\" \")\n"
      ]
    },
    {
      "cell_type": "code",
      "source": [
        "dna_sequence = \"TGCGCTAGTCGAGCCATGCTCGATTGCATTATTGAGCCTAGAAATTTATAACAATCCTTTAGGTCGCGCCCATAGCCTATGCAGTTACCCTAGCATAAGAGGCTGCCTTAGTGCTGGACACAAGAACACGCGTGATATTAGCTTGTGTGTTCGGGCGAGCACTTTCGTGTAGCTTTGGTCTGCCACATCACCTGTGCATCCCAGTCGAATAGTCGGGGCGTCCTGCCGTAGCAATTTTTCTACAACGATGTGCCTAGCGCTTCGTGCGCGGTGAGGACGTGCGGAGTACATATAATTGTGCCTAAGGGGCGGTCTTCGAGCCCTTGCACCAAGGACCAATTCGCCGTATTCATTAACATCTGCAGAGTAGTCTCTTTATGTAGATCATACAGTTAGTGGGGCGCGTATTAGACATAATTTGTAGCTCTACTACCCCGACGGACCGGTCGGGAAGCACTACTTCTGAACGCCCTGGGGACTGGAAGCATCCTTATGACTATTTAGTACCGTCGTAGGTAAGCTGTGCGTCGAACTTCACATTGGCCGCCCGACCGAGACGCAGGAGTCGTTACTGCCCTAACCTTCAAGTCAATTCGGGACAAGACACGTGGAGATTCCCAGATCAAAGATCCCCTGTCTACCTTCGTTCCCGCCACATCGTGTCTTGTGTTAGGAGTTGCATCGGTATCCGCATACATTGAAGCCTGAGTGATTATGTCGTCCAGTCTTTAATCTCATCCTAGACGTCTTCCATCACTGCTGGATCTCGCGCTCCATTACTGCATCTGTACGAAGAGTGAGCGGATAACTG\"\n",
        "\n",
        "dna_A = dna_sequence.count(\"A\")\n",
        "dna_C = dna_sequence.count(\"C\")\n",
        "dna_G = dna_sequence.count(\"G\")\n",
        "dna_T = dna_sequence.count(\"T\")\n",
        "\n",
        "print(dna_A,dna_C,dna_G,dna_T,sep=\" \")"
      ],
      "metadata": {
        "colab": {
          "base_uri": "https://localhost:8080/"
        },
        "id": "nnzDax45wtTx",
        "outputId": "b9186b2e-0099-4e56-e8a5-7c5d2f610221"
      },
      "execution_count": null,
      "outputs": [
        {
          "output_type": "stream",
          "name": "stdout",
          "text": [
            "182 210 200 219\n"
          ]
        }
      ]
    }
  ]
}