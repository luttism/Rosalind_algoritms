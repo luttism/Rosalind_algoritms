{
  "cells": [
    {
      "cell_type": "markdown",
      "metadata": {
        "id": "OJoppaf5WYAi"
      },
      "source": [
        "**Complementing a Strand of DNA**\n",
        "--\n",
        "\n",
        "\n",
        "**Problem**\n",
        "\n",
        "In DNA strings, symbols 'A' and 'T' are complements of each other, as are 'C' and 'G'.\n",
        "\n",
        "The reverse complement of a DNA string s\n",
        "is the string sc formed by reversing the symbols of s\n",
        "\n",
        ", then taking the complement of each symbol (e.g., the reverse complement of \"GTCA\" is \"TGAC\").\n",
        "\n",
        "**Given:** A DNA string *s* of length at most 1000 bp.\n",
        "\n",
        "**Return:** The reverse complement *sc* of *s*.\n",
        "\n",
        "\n",
        "**Sample Dataset**\n",
        "\n",
        "AAAACCCGGT\n",
        "\n",
        "\n",
        "**Sample Output**\n",
        "\n",
        "ACCGGGTTTT\n",
        "\n"
      ]
    },
    {
      "cell_type": "code",
      "execution_count": null,
      "metadata": {
        "colab": {
          "background_save": true,
          "base_uri": "https://localhost:8080/"
        },
        "id": "F99ze8FzWQrK",
        "outputId": "e441cacf-13b4-4caf-9335-ce5cf713b8f0"
      },
      "outputs": [
        {
          "name": "stdout",
          "output_type": "stream",
          "text": [
            "Sequencia original:\n",
            " AAAACCCGGT\n",
            "Complemento reverso:\n",
            " ACCGGGTTTT\n"
          ]
        }
      ],
      "source": [
        "sequence = \"AAAACCCGGT\"\n",
        "\n",
        "reverse_complement = \"\"\n",
        "\n",
        "for nucleotide in sequence:\n",
        "  if nucleotide == \"A\":\n",
        "    reverse_complement += \"T\"\n",
        "  elif nucleotide == \"T\":\n",
        "    reverse_complement += \"A\"\n",
        "  elif nucleotide == \"C\":\n",
        "    reverse_complement += \"G\"\n",
        "  elif nucleotide == \"G\":\n",
        "    reverse_complement += \"C\"\n",
        "\n",
        "reverse_complement = reverse_complement[::-1]\n",
        "\n",
        "print(\"Sequencia original:\\n\",sequence)\n",
        "\n",
        "print(\"Complemento reverso:\\n\",reverse_complement)\n",
        "\n"
      ]
    },
    {
      "cell_type": "code",
      "execution_count": null,
      "metadata": {
        "colab": {
          "base_uri": "https://localhost:8080/"
        },
        "id": "Kp2GwK0LZ5mB",
        "outputId": "712526bd-b039-4121-d243-3325378e6a74"
      },
      "outputs": [
        {
          "name": "stdout",
          "output_type": "stream",
          "text": [
            "Collecting biopython\n",
            "  Downloading biopython-1.79-cp37-cp37m-manylinux_2_5_x86_64.manylinux1_x86_64.whl (2.3 MB)\n",
            "\u001b[K     |████████████████████████████████| 2.3 MB 5.0 MB/s \n",
            "\u001b[?25hRequirement already satisfied: numpy in /usr/local/lib/python3.7/dist-packages (from biopython) (1.21.5)\n",
            "Installing collected packages: biopython\n",
            "Successfully installed biopython-1.79\n"
          ]
        }
      ],
      "source": [
        "# Biopython\n",
        "!pip3 install biopython"
      ]
    },
    {
      "cell_type": "code",
      "execution_count": null,
      "metadata": {
        "colab": {
          "base_uri": "https://localhost:8080/"
        },
        "id": "MDLHTEvRbvgY",
        "outputId": "e25c7a79-e232-4f7b-8f8a-384ebacb0551"
      },
      "outputs": [
        {
          "name": "stdout",
          "output_type": "stream",
          "text": [
            "Sequencia Original: AAAACCCGGT\n",
            "Complemento reverse: ACCGGGTTTT\n"
          ]
        }
      ],
      "source": [
        "import Bio\n",
        "from Bio.Seq import Seq\n",
        "\n",
        "seq = Seq(\"AAAACCCGGT\")\n",
        "\n",
        "complement_reverse = seq.reverse_complement()\n",
        "\n",
        "print(\"Sequencia Original:\",seq)\n",
        "print(\"Complemento reverse:\",complement_reverse)"
      ]
    },
    {
      "cell_type": "code",
      "execution_count": null,
      "metadata": {
        "colab": {
          "base_uri": "https://localhost:8080/"
        },
        "id": "7MaTwY8WZ74w",
        "outputId": "b69296a5-d58c-4974-d27c-deefcad2254e"
      },
      "outputs": [
        {
          "name": "stdout",
          "output_type": "stream",
          "text": [
            "Sequencia Original: AAAACCCGGT\n",
            "Complemento reverso: ACCGGGTTTT\n"
          ]
        }
      ],
      "source": [
        "# Replace\n",
        "seq3 = \"AAAACCCGGT\"\n",
        "\n",
        "rev_compl = seq3.replace(\"A\",\"t\").replace(\"T\",\"a\").replace(\"C\",\"g\").replace(\"G\",\"c\").upper()[::-1]\n",
        "\n",
        "print(\"Sequencia Original:\",seq3)\n",
        "print(\"Complemento reverso:\",rev_compl)\n"
      ]
    }
  ],
  "metadata": {
    "colab": {
      "collapsed_sections": [],
      "name": "Desafio03_Rosalind_Complement_reverse.ipynb",
      "provenance": [],
      "authorship_tag": "ABX9TyNOxYrr4R5X71o4GfLpmtiU"
    },
    "kernelspec": {
      "display_name": "Python 3",
      "name": "python3"
    },
    "language_info": {
      "name": "python"
    }
  },
  "nbformat": 4,
  "nbformat_minor": 0
}