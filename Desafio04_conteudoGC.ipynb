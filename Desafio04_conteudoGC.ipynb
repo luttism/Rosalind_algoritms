{
  "nbformat": 4,
  "nbformat_minor": 0,
  "metadata": {
    "colab": {
      "name": "Desafio04_conteudoGC.ipynb",
      "provenance": [],
      "collapsed_sections": [],
      "authorship_tag": "ABX9TyMIu7m3NAiDZZqZUDBYzGxN"
    },
    "kernelspec": {
      "name": "python3",
      "display_name": "Python 3"
    },
    "language_info": {
      "name": "python"
    }
  },
  "cells": [
    {
      "cell_type": "markdown",
      "source": [
        "**Computing GC Content**\n",
        "--\n",
        "\n",
        "**Problem** \n",
        "\n",
        "The GC-content of a DNA string is given by the percentage of symbols in the string that are 'C' or 'G'. For example, the GC-content of \"AGCTATAG\" is 37.5%. Note that the reverse complement of any DNA string has the same GC-content.\n",
        "\n",
        "DNA strings must be labeled when they are consolidated into a database. A commonly used method of string labeling is called FASTA format. In this format, the string is introduced by a line that begins with '>', followed by some labeling information. Subsequent lines contain the string itself; the first line to begin with '>' indicates the label of the next string.\n",
        "\n",
        "In Rosalind's implementation, a string in FASTA format will be labeled by the ID \"Rosalind_xxxx\", where \"xxxx\" denotes a four-digit code between 0000 and 9999.\n",
        "\n",
        "**Given:** At most 10 DNA strings in FASTA format (of length at most 1 kbp each).\n",
        "\n",
        "**Return:** The ID of the string having the highest GC-content, followed by the GC-content of that string. Rosalind allows for a default error of 0.001 in all decimal answers unless otherwise stated; please see the note on absolute error below.\n",
        "\n",
        "**Sample Dataset**\n",
        "\n",
        "\\>Rosalind_6404\n",
        "CCTGCGGAAGATCGGCACTAGAATAGCCAGAACCGTTTCTCTGAGGCTTCCGGCCTTCCC\n",
        "TCCCACTAATAATTCTGAGG\n",
        "\n",
        "\\>Rosalind_5959\n",
        "CCATCGGTAGCGCATCCTTAGTCCAATTAAGTCCCTATCCAGGCGCTCCGCCGAAGGTCT\n",
        "ATATCCATTTGTCAGCAGACACGC\n",
        "\n",
        "\\>Rosalind_0808\n",
        "CCACCCTCGTGGTATGGCTAGGCATTCAGGAACCGGAGAACGCTTCAGACCAGCCCGGAC\n",
        "TGGGAACCTGCGGGCAGTAGGTGGAAT\n",
        "\n",
        "**Sample Output**\n",
        "\n",
        "Rosalind_0808\n",
        "60.919540\n"
      ],
      "metadata": {
        "id": "Rcply941iHrd"
      }
    },
    {
      "cell_type": "code",
      "source": [
        "# Biopython\n",
        "!pip3 install biopython"
      ],
      "metadata": {
        "colab": {
          "base_uri": "https://localhost:8080/"
        },
        "id": "pkLNYPY_mP3D",
        "outputId": "a85f93bc-2c75-443f-af56-c2a6b95b8830"
      },
      "execution_count": null,
      "outputs": [
        {
          "output_type": "stream",
          "name": "stdout",
          "text": [
            "Collecting biopython\n",
            "  Downloading biopython-1.79-cp37-cp37m-manylinux_2_5_x86_64.manylinux1_x86_64.whl (2.3 MB)\n",
            "\u001b[K     |████████████████████████████████| 2.3 MB 5.1 MB/s \n",
            "\u001b[?25hRequirement already satisfied: numpy in /usr/local/lib/python3.7/dist-packages (from biopython) (1.21.5)\n",
            "Installing collected packages: biopython\n",
            "Successfully installed biopython-1.79\n"
          ]
        }
      ]
    },
    {
      "cell_type": "code",
      "source": [
        "import Bio\n",
        "\n",
        "from Bio import SeqIO\n",
        "\n",
        "max_total = 0\n",
        "max_id = \"\"\n",
        "\n",
        "for number, record in enumerate(SeqIO.parse(\"example.fasta\",\"fasta\")):\n",
        "  #print(str(record))\n",
        "  conta_G = str(record.seq).count(\"G\")\n",
        "  conta_C = str(record.seq).count(\"C\")\n",
        "  tamanho_seq = len(record.seq)\n",
        "  seq_id = record.id\n",
        "  #print(conta_G, conta_C, tamanho_seq)\n",
        "  total = ( (conta_G + conta_C)/tamanho_seq )*100\n",
        "  #print(record.id, total)\n",
        "\n",
        "  if (total >= max_total):\n",
        "    max_id = seq_id\n",
        "    max_total = total\n",
        "\n",
        "print(f\"{max_id}\\n{max_total}\")\n"
      ],
      "metadata": {
        "colab": {
          "base_uri": "https://localhost:8080/"
        },
        "id": "ntvYdSw0iW1F",
        "outputId": "fbfc85ab-3d03-40fe-8ab3-6d342f36418a"
      },
      "execution_count": null,
      "outputs": [
        {
          "output_type": "stream",
          "name": "stdout",
          "text": [
            "Rosalind_0808\n",
            "60.91954022988506\n"
          ]
        }
      ]
    },
    {
      "cell_type": "code",
      "execution_count": null,
      "metadata": {
        "colab": {
          "base_uri": "https://localhost:8080/"
        },
        "id": "qrDXkk2diEe7",
        "outputId": "ae890eab-167f-49d9-e2a5-339038930db3"
      },
      "outputs": [
        {
          "output_type": "stream",
          "name": "stdout",
          "text": [
            "18 25 80\n"
          ]
        }
      ],
      "source": [
        "#teste de mesa\n",
        "seq_Rosalind_6404 = \"CCTGCGGAAGATCGGCACTAGAATAGCCAGAACCGTTTCTCTGAGGCTTCCGGCCTTCCCTCCCACTAATAATTCTGAGG\"\n",
        "seq_Rosalind_5959 = \"CCATCGGTAGCGCATCCTTAGTCCAATTAAGTCCCTATCCAGGCGCTCCGCCGAAGGTCTATATCCATTTGTCAGCAGACACGC\"\n",
        "seq_Rosalind_0808 = \"CCACCCTCGTGGTATGGCTAGGCATTCAGGAACCGGAGAACGCTTCAGACCAGCCCGGACTGGGAACCTGCGGGCAGTAGGTGGAAT\"\n",
        "\n",
        "conta_G = str(seq_Rosalind_6404).count(\"G\")\n",
        "conta_C = str(seq_Rosalind_6404).count(\"C\")\n",
        "tamanho_seq = len(seq_Rosalind_6404)\n",
        "print(conta_G, conta_C, tamanho_seq)\n"
      ]
    }
  ]
}